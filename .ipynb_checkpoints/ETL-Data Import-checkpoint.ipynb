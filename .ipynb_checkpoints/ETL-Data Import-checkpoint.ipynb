{
 "cells": [
  {
   "cell_type": "code",
   "execution_count": null,
   "metadata": {},
   "outputs": [],
   "source": [
    "import pandas as pd\n",
    "from sqlalchemy import create_engine\n",
    "\n",
    "import pymysql \n",
    "pymysql.install_as_MySQLdb()\n",
    "\n",
    "import numpy as np\n"
   ]
  },
  {
   "cell_type": "markdown",
   "metadata": {},
   "source": [
    "## Import Visitation Data"
   ]
  },
  {
   "cell_type": "code",
   "execution_count": null,
   "metadata": {},
   "outputs": [],
   "source": [
    "# Visitation for Yosemite\n",
    "visit_yosemite = pd.read_csv('Visitation/YosemiteVisitation.csv', thousands = ',')\n",
    "visit_yosemite = visit_yosemite.rename(columns = {\"JAN\":\"January\", \"FEB\": \"February\", \"MAR\": \"March\", \n",
    "                                                  \"APR\": \"April\",\"MAY\": \"May\", \"JUN\": \"June\", \"JUL\": \"July\", \n",
    "                                                  \"AUG\": \"August\", \"SEP\": \"September\",\"OCT\": \"October\", \n",
    "                                                  \"NOV\": \"November\", \"DEC\": \"December\"})\n",
    "visit_yosemite[\"Park\"] = \"Yosemite\"\n",
    "visit_yosemite.head()\n"
   ]
  },
  {
   "cell_type": "code",
   "execution_count": null,
   "metadata": {},
   "outputs": [],
   "source": [
    "visit_yellowstone = pd.read_csv('Visitation/YellowstoneVisitation.csv', thousands = ',')\n",
    "visit_yellowstone = visit_yellowstone.rename(columns = {\"JAN\":\"January\", \"FEB\": \"February\", \"MAR\": \"March\", \n",
    "                                                  \"APR\": \"April\",\"MAY\": \"May\", \"JUN\": \"June\", \"JUL\": \"July\", \n",
    "                                                  \"AUG\": \"August\", \"SEP\": \"September\",\"OCT\": \"October\", \n",
    "                                                  \"NOV\": \"November\", \"DEC\": \"December\"})\n",
    "visit_yellowstone[\"Park\"] = \"Yellowstone\"\n",
    "visit_yellowstone.head()"
   ]
  },
  {
   "cell_type": "code",
   "execution_count": null,
   "metadata": {},
   "outputs": [],
   "source": [
    "visit_grandcanyon = pd.read_csv('Visitation/GrandCanyonVisitation.csv', thousands = ',')\n",
    "visit_grandcanyon = visit_grandcanyon.rename(columns = {\"JAN\":\"January\", \"FEB\": \"February\", \"MAR\": \"March\", \n",
    "                                                  \"APR\": \"April\",\"MAY\": \"May\", \"JUN\": \"June\", \"JUL\": \"July\", \n",
    "                                                  \"AUG\": \"August\", \"SEP\": \"September\",\"OCT\": \"October\", \n",
    "                                                  \"NOV\": \"November\", \"DEC\": \"December\"})\n",
    "visit_grandcanyon[\"Park\"] = \"Grand Canyon\"\n",
    "visit_grandcanyon.head()"
   ]
  },
  {
   "cell_type": "code",
   "execution_count": null,
   "metadata": {},
   "outputs": [],
   "source": [
    "visit_grandteton = pd.read_csv('Visitation/GrandTetonVisitation.csv', thousands = ',')\n",
    "visit_grandteton = visit_grandteton.rename(columns = {\"JAN\":\"January\", \"FEB\": \"February\", \"MAR\": \"March\", \n",
    "                                                  \"APR\": \"April\",\"MAY\": \"May\", \"JUN\": \"June\", \"JUL\": \"July\", \n",
    "                                                  \"AUG\": \"August\", \"SEP\": \"September\",\"OCT\": \"October\", \n",
    "                                                  \"NOV\": \"November\", \"DEC\": \"December\"})\n",
    "visit_grandteton[\"Park\"] = \"Grand Teton\"\n",
    "visit_grandteton.head()"
   ]
  },
  {
   "cell_type": "code",
   "execution_count": null,
   "metadata": {},
   "outputs": [],
   "source": [
    "visit_glacier = pd.read_csv('Visitation/GlacierVisitation.csv', thousands = ',')\n",
    "visit_glacier = visit_glacier.rename(columns = {\"JAN\":\"January\", \"FEB\": \"February\", \"MAR\": \"March\", \n",
    "                                                  \"APR\": \"April\",\"MAY\": \"May\", \"JUN\": \"June\", \"JUL\": \"July\", \n",
    "                                                  \"AUG\": \"August\", \"SEP\": \"September\",\"OCT\": \"October\", \n",
    "                                                  \"NOV\": \"November\", \"DEC\": \"December\"})\n",
    "visit_glacier[\"Park\"] = \"Glacier\"\n",
    "visit_glacier.head()"
   ]
  },
  {
   "cell_type": "markdown",
   "metadata": {},
   "source": [
    "## Import Traffic"
   ]
  },
  {
   "cell_type": "code",
   "execution_count": null,
   "metadata": {},
   "outputs": [],
   "source": [
    "traffic_yosemite = pd.read_csv('TrafficCounts/YosemiteTraffic.csv', thousands = ',')\n",
    "traffic_yosemite_group = traffic_yosemite.groupby([\"Year\", \"GroupDescription\"])\n",
    "traffic_yosemite_group = traffic_yosemite_group.sum()\n",
    "traffic_yosemite_group = traffic_yosemite_group.sort_values(\"Year\", ascending = True)\n",
    "traffic_yosemite_group = traffic_yosemite_group.rename(columns = {\"JAN\":\"January\", \"FEB\": \"February\", \"MAR\": \"March\", \n",
    "                                                  \"APR\": \"April\",\"MAY\": \"May\", \"JUN\": \"June\", \"JUL\": \"July\", \n",
    "                                                  \"AUG\": \"August\", \"SEP\": \"September\",\"OCT\": \"October\", \n",
    "                                                  \"NOV\": \"November\", \"DEC\": \"December\"})\n",
    "traffic_yosemite_group[\"Park\"] = \"Yosemite\"\n",
    "traffic_yosemite_group = traffic_yosemite_group.reset_index()\n",
    "traffic_yosemite_group.head()\n"
   ]
  },
  {
   "cell_type": "code",
   "execution_count": null,
   "metadata": {},
   "outputs": [],
   "source": [
    "traffic_yellowstone = pd.read_csv('TrafficCounts/YellowstoneTraffic.csv', thousands = ',')\n",
    "traffic_yellowstone_group = traffic_yellowstone.groupby([\"Year\", \"GroupDescription\"])\n",
    "traffic_yellowstone_group = traffic_yellowstone_group.sum()\n",
    "traffic_yellowstone_group = traffic_yellowstone_group.sort_values(\"Year\", ascending = True)\n",
    "traffic_yellowstone_group = traffic_yellowstone_group.rename(columns = {\"JAN\":\"January\", \"FEB\": \"February\", \"MAR\": \"March\", \n",
    "                                                  \"APR\": \"April\",\"MAY\": \"May\", \"JUN\": \"June\", \"JUL\": \"July\", \n",
    "                                                  \"AUG\": \"August\", \"SEP\": \"September\",\"OCT\": \"October\", \n",
    "                                                  \"NOV\": \"November\", \"DEC\": \"December\"})\n",
    "traffic_yellowstone_group[\"Park\"] = \"Yellowstone\"\n",
    "traffic_yellowstone_group = traffic_yellowstone_group.reset_index()\n",
    "traffic_yellowstone_group.head()\n"
   ]
  },
  {
   "cell_type": "code",
   "execution_count": null,
   "metadata": {},
   "outputs": [],
   "source": [
    "traffic_grandcanyon = pd.read_csv('TrafficCounts/GrandCanyonTraffic.csv', thousands = ',')\n",
    "traffic_grandcanyon_group = traffic_grandcanyon.groupby([\"Year\", \"GroupDescription\"])\n",
    "traffic_grandcanyon_group = traffic_grandcanyon_group.sum()\n",
    "traffic_grandcanyon_group = traffic_grandcanyon_group.sort_values(\"Year\", ascending = True)\n",
    "traffic_grandcanyon_group = traffic_grandcanyon_group.rename(columns = {\"JAN\":\"January\", \"FEB\": \"February\", \"MAR\": \"March\", \n",
    "                                                  \"APR\": \"April\",\"MAY\": \"May\", \"JUN\": \"June\", \"JUL\": \"July\", \n",
    "                                                  \"AUG\": \"August\", \"SEP\": \"September\",\"OCT\": \"October\", \n",
    "                                                  \"NOV\": \"November\", \"DEC\": \"December\"})\n",
    "traffic_grandcanyon_group[\"Park\"] = \"Grand Canyon\"\n",
    "traffic_grandcanyon_group = traffic_grandcanyon_group.reset_index()\n",
    "traffic_grandcanyon_group.head()"
   ]
  },
  {
   "cell_type": "code",
   "execution_count": null,
   "metadata": {},
   "outputs": [],
   "source": [
    "traffic_grandteton = pd.read_csv('TrafficCounts/GrandTetonTraffic.csv', thousands = ',')\n",
    "traffic_grandteton_group = traffic_grandteton.groupby([\"Year\", \"GroupDescription\"])\n",
    "traffic_grandteton_group = traffic_grandteton_group.sum()\n",
    "traffic_grandteton_group = traffic_grandteton_group.sort_values(\"Year\", ascending = True)\n",
    "traffic_grandteton_group = traffic_grandteton_group.rename(columns = {\"JAN\":\"January\", \"FEB\": \"February\", \"MAR\": \"March\", \n",
    "                                                  \"APR\": \"April\",\"MAY\": \"May\", \"JUN\": \"June\", \"JUL\": \"July\", \n",
    "                                                  \"AUG\": \"August\", \"SEP\": \"September\",\"OCT\": \"October\", \n",
    "                                                  \"NOV\": \"November\", \"DEC\": \"December\"})\n",
    "traffic_grandteton_group[\"Park\"] = \"Grand Teton\"\n",
    "traffic_grandteton_group = traffic_grandteton_group.reset_index()\n",
    "traffic_grandteton_group.head()"
   ]
  },
  {
   "cell_type": "code",
   "execution_count": null,
   "metadata": {},
   "outputs": [],
   "source": [
    "traffic_glacier = pd.read_csv('TrafficCounts/GlacierTraffic.csv', thousands = ',')\n",
    "# traffic_glacier.head()\n",
    "traffic_glacier_group = traffic_glacier.groupby([\"Year\", \"GroupDescription\"])\n",
    "traffic_glacier_group = traffic_glacier_group.sum()\n",
    "traffic_glacier_group = traffic_glacier_group.sort_values(\"Year\", ascending = True)\n",
    "traffic_glacier_group = traffic_glacier_group.rename(columns = {\"JAN\":\"January\", \"FEB\": \"February\", \"MAR\": \"March\", \n",
    "                                                  \"APR\": \"April\",\"MAY\": \"May\", \"JUN\": \"June\", \"JUL\": \"July\", \n",
    "                                                  \"AUG\": \"August\", \"SEP\": \"September\",\"OCT\": \"October\", \n",
    "                                                  \"NOV\": \"November\", \"DEC\": \"December\"})\n",
    "traffic_glacier_group[\"Park\"] = \"Glacier\"\n",
    "traffic_glacier_group = traffic_glacier_group.reset_index()\n",
    "traffic_glacier_group.head()"
   ]
  },
  {
   "cell_type": "markdown",
   "metadata": {},
   "source": [
    "## Import Gas Prices"
   ]
  },
  {
   "cell_type": "code",
   "execution_count": null,
   "metadata": {},
   "outputs": [],
   "source": [
    "# Gas Prices\n",
    "gas = pd.read_csv('Resources/gas_per_gallon.csv', decimal = '.')\n",
    "\n",
    "# Make a dataframe to put our gas data (cuz it's in a rude format)\n",
    "years = np.arange(1993, 2020, 1)\n",
    "gas_prices = pd.DataFrame(index = [\"January\", \"February\", \"March\", \"April\", \"May\",\n",
    "                                     \"June\", \"July\", \"August\", \"September\", \"October\", \"November\", \"December\"], columns = years)\n",
    "\n",
    "# Get 1993 into place because it isn't a full 12 months of data\n",
    "gas_prices.iloc[3:12,0] = list(gas.iloc[0:9, 1])\n",
    "\n",
    "# Get 1994 to 2018 into the dataframe\n",
    "col = 1\n",
    "for i in range(9, 309, 12):\n",
    "    gas_prices.iloc[0:,col] = list(gas.iloc[i:i+12, 1])\n",
    "    col = col + 1\n",
    "\n",
    "# Get 2019 into the dataframe\n",
    "gas_prices.iloc[0:3,col] = list(gas.iloc[i+12:i+15, 1])\n",
    "\n",
    "# Transpose and add some years in.\n",
    "gas_prices = gas_prices.transpose()\n",
    "gas_prices = gas_prices.reset_index()\n",
    "gas_prices = gas_prices.rename(columns = {\"index\":\"Year\"})\n",
    "gas_prices\n"
   ]
  },
  {
   "cell_type": "code",
   "execution_count": null,
   "metadata": {},
   "outputs": [],
   "source": [
    "# Double check some of the data to make sure it's right by running this and then comparing with the above.\n",
    "gas"
   ]
  },
  {
   "cell_type": "markdown",
   "metadata": {},
   "source": [
    "## Sending Shit to SQL"
   ]
  },
  {
   "cell_type": "code",
   "execution_count": null,
   "metadata": {},
   "outputs": [],
   "source": [
    "# To use your own sequal rather than mine\n",
    "usr_name = input(\"What is your SQL user name? \")\n",
    "pw = input(\"Please type in your password for SQL. I promise I won't abuse it: \")\n",
    "rds_connection_string = (f\"{usr_name}:{pw}@localhost/park_db\")\n",
    "print(rds_connection_string)"
   ]
  },
  {
   "cell_type": "code",
   "execution_count": null,
   "metadata": {},
   "outputs": [],
   "source": [
    "engine = create_engine(f'mysql://{rds_connection_string}')\n",
    "engine.table_names()\n",
    "\n",
    "visit_yosemite.to_sql(name='park_attendance', con=engine, if_exists='append', index=False)\n",
    "visit_yellowstone.to_sql(name='park_attendance', con=engine, if_exists='append', index=False)\n",
    "visit_grandcanyon.to_sql(name='park_attendance', con=engine, if_exists='append', index=False)\n",
    "visit_grandteton.to_sql(name='park_attendance', con=engine, if_exists='append', index=False)\n",
    "visit_glacier.to_sql(name='park_attendance', con=engine, if_exists='append', index=False)\n",
    "\n",
    "traffic_yosemite_group.to_sql(name='park_traffic', con=engine, if_exists='append', index=False)\n",
    "traffic_yellowstone_group.to_sql(name='park_traffic', con=engine, if_exists='append', index=False)\n",
    "traffic_grandcanyon_group.to_sql(name='park_traffic', con=engine, if_exists='append', index=False)\n",
    "traffic_grandteton_group.to_sql(name='park_traffic', con=engine, if_exists='append', index=False)\n",
    "traffic_glacier_group.to_sql(name='park_traffic', con=engine, if_exists='append', index=False)\n",
    "\n",
    "gas_prices.to_sql(name = 'gas_prices', con=engine, if_exists = 'append', index =False)\n"
   ]
  },
  {
   "cell_type": "code",
   "execution_count": null,
   "metadata": {},
   "outputs": [],
   "source": []
  }
 ],
 "metadata": {
  "kernelspec": {
   "display_name": "Python 3",
   "language": "python",
   "name": "python3"
  },
  "language_info": {
   "codemirror_mode": {
    "name": "ipython",
    "version": 3
   },
   "file_extension": ".py",
   "mimetype": "text/x-python",
   "name": "python",
   "nbconvert_exporter": "python",
   "pygments_lexer": "ipython3",
   "version": "3.6.7"
  }
 },
 "nbformat": 4,
 "nbformat_minor": 2
}
